{
  "nbformat": 4,
  "nbformat_minor": 0,
  "metadata": {
    "colab": {
      "name": "EsterPeTugas.ipynb",
      "provenance": [],
      "authorship_tag": "ABX9TyOLvDHIpBegFJdEAZOBbxL7"
    },
    "kernelspec": {
      "name": "python3",
      "display_name": "Python 3"
    },
    "language_info": {
      "name": "python"
    }
  },
  "cells": [
    {
      "cell_type": "code",
      "metadata": {
        "id": "GgBMzMJzjJvs"
      },
      "source": [
        "import numpy as np\n",
        "import statistics"
      ],
      "execution_count": 36,
      "outputs": []
    },
    {
      "cell_type": "code",
      "metadata": {
        "colab": {
          "base_uri": "https://localhost:8080/"
        },
        "id": "vjuFdpz7kNK4",
        "outputId": "c34e2fc4-2c53-484f-c63d-c26bc1371369"
      },
      "source": [
        "populationData = [77, 50, 99, 60, 90, 82, 93, 75, 86, 99, 55, 79]\n",
        "\n",
        "x = statistics.mean(populationData)\n",
        "\n",
        "print(\"Population Mean & sample is : \", x)\n",
        "\n"
      ],
      "execution_count": 37,
      "outputs": [
        {
          "output_type": "stream",
          "text": [
            "Population Mean & sample is :  78.75\n"
          ],
          "name": "stdout"
        }
      ]
    },
    {
      "cell_type": "code",
      "metadata": {
        "colab": {
          "base_uri": "https://localhost:8080/"
        },
        "id": "RLWzkgnV6jqz",
        "outputId": "6cbe734d-75fa-4256-eaf8-311282a190e1"
      },
      "source": [
        "medianData = [77, 50, 99, 60, 90, 82, 93, 75, 86, 99, 55, 79]\n",
        "\n",
        "x = statistics.median(medianData)\n",
        "\n",
        "print(\"Median is : \", x)\n",
        "\n",
        "\n"
      ],
      "execution_count": 38,
      "outputs": [
        {
          "output_type": "stream",
          "text": [
            "Median is :  80.5\n"
          ],
          "name": "stdout"
        }
      ]
    },
    {
      "cell_type": "code",
      "metadata": {
        "colab": {
          "base_uri": "https://localhost:8080/"
        },
        "id": "C9GmNkYH7L9U",
        "outputId": "6e8697ec-90b1-4462-b672-ac97f60af64c"
      },
      "source": [
        "modeData = [77, 50, 99, 60, 90, 82, 93, 75, 86, 99, 55, 79]\n",
        "\n",
        "x = statistics.mode(modeData)\n",
        "\n",
        "print(\"Mode is : \", x)\n",
        "\n"
      ],
      "execution_count": 39,
      "outputs": [
        {
          "output_type": "stream",
          "text": [
            "Mode is :  99\n"
          ],
          "name": "stdout"
        }
      ]
    },
    {
      "cell_type": "code",
      "metadata": {
        "colab": {
          "base_uri": "https://localhost:8080/"
        },
        "id": "l5Oss3o276E5",
        "outputId": "d3143257-acef-44b5-fc1a-10fa61703784"
      },
      "source": [
        "x = np.std(np.array([[77, 50, 99, 60, 90, 82, 93, 75, 86, 99, 55, 79]]))\n",
        "\n",
        "\n",
        "print(\"Standard Deviation of population is : \",x)"
      ],
      "execution_count": 40,
      "outputs": [
        {
          "output_type": "stream",
          "text": [
            "Standard Deviation of population is :  15.738090735537142\n"
          ],
          "name": "stdout"
        }
      ]
    },
    {
      "cell_type": "code",
      "metadata": {
        "colab": {
          "base_uri": "https://localhost:8080/"
        },
        "id": "YKTTUJ1LCwpU",
        "outputId": "2f006925-94fa-4402-a76f-36dba2a8ff23"
      },
      "source": [
        "x = np.std(np.array([[77, 50, 99, 60, 90, 82, 93, 75, 86, 99, 55, 79]] ), ddof=1)\n",
        "\n",
        "\n",
        "print(\"Standard Deviation of sample is : \",x )"
      ],
      "execution_count": 41,
      "outputs": [
        {
          "output_type": "stream",
          "text": [
            "Standard Deviation of sample is :  16.43789966676234\n"
          ],
          "name": "stdout"
        }
      ]
    },
    {
      "cell_type": "code",
      "metadata": {
        "colab": {
          "base_uri": "https://localhost:8080/"
        },
        "id": "hA3MWNZkBcy9",
        "outputId": "6f82a0c8-5b73-43da-bb78-5917c6115391"
      },
      "source": [
        "sample = [77, 50, 99, 60, 90, 82, 93, 75, 86, 99, 55, 79]\n",
        " \n",
        "# Prints standard deviation\n",
        "# xbar is set to default value of 1\n",
        "print(\"Standard Deviation of sample is % s \"\n",
        "                % (statistics.stdev(sample)))"
      ],
      "execution_count": 42,
      "outputs": [
        {
          "output_type": "stream",
          "text": [
            "Standard Deviation of sample is 16.43789966676234 \n"
          ],
          "name": "stdout"
        }
      ]
    },
    {
      "cell_type": "code",
      "metadata": {
        "colab": {
          "base_uri": "https://localhost:8080/"
        },
        "id": "Qc-VzJaUCAzl",
        "outputId": "2c226ec0-2263-4758-bca7-99bb295b13df"
      },
      "source": [
        "x = np.var(np.array([[77, 50, 99, 60, 90, 82, 93, 75, 86, 99, 55, 79]]))\n",
        "\n",
        "\n",
        "print(\"Sample variance is : \",x)"
      ],
      "execution_count": 43,
      "outputs": [
        {
          "output_type": "stream",
          "text": [
            "Sample variance is :  247.6875\n"
          ],
          "name": "stdout"
        }
      ]
    },
    {
      "cell_type": "code",
      "metadata": {
        "colab": {
          "base_uri": "https://localhost:8080/"
        },
        "id": "RkNh8CfjGm0U",
        "outputId": "cc4d901e-0fbd-4664-d81e-8da37e52c3c7"
      },
      "source": [
        "x = np.var(np.array([[77, 50, 99, 60, 90, 82, 93, 75, 86, 99, 55, 79]]), ddof=1)\n",
        "\n",
        "\n",
        "print(\"Population variance is : \",x)"
      ],
      "execution_count": 44,
      "outputs": [
        {
          "output_type": "stream",
          "text": [
            "Population variance is :  270.20454545454544\n"
          ],
          "name": "stdout"
        }
      ]
    },
    {
      "cell_type": "code",
      "metadata": {
        "colab": {
          "base_uri": "https://localhost:8080/"
        },
        "id": "o9QVTZPAHT7Y",
        "outputId": "bdabbe26-763b-4ed9-c99d-4b91044c0279"
      },
      "source": [
        "data = [77, 50, 99, 60, 90, 82, 93, 75, 86, 99, 55, 79]\n",
        "\n",
        "#CV = σ / μ\n",
        "#σ: The standard deviation of dataset\n",
        "#μ: The mean of dataset\n",
        "\n",
        "cv = lambda x: np.std(x, ddof=1) / np.mean(x) * 100 \n",
        "\n",
        "cv(data)"
      ],
      "execution_count": 45,
      "outputs": [
        {
          "output_type": "execute_result",
          "data": {
            "text/plain": [
              "20.87352338636488"
            ]
          },
          "metadata": {},
          "execution_count": 45
        }
      ]
    }
  ]
}